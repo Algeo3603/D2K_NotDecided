{
  "nbformat": 4,
  "nbformat_minor": 0,
  "metadata": {
    "colab": {
      "provenance": []
    },
    "kernelspec": {
      "name": "python3",
      "display_name": "Python 3"
    },
    "language_info": {
      "name": "python"
    }
  },
  "cells": [
    {
      "cell_type": "code",
      "execution_count": null,
      "metadata": {
        "id": "P6CqyXIa57TH"
      },
      "outputs": [],
      "source": [
        "import re\n",
        "import json\n",
        "\n",
        "def parse_ann_file(ann_content):\n",
        "    annotations = []\n",
        "\n",
        "    for line in ann_content.split('\\n'):\n",
        "        if line.startswith('T'):\n",
        "            # Parse textual annotations (T lines)\n",
        "            parts = line.split()\n",
        "            annotation_id, annotation_type, start, end, text = parts[0], parts[1], int(parts[2]), int(parts[3]), parts[4:]\n",
        "            annotations.append({\n",
        "                'id': annotation_id,\n",
        "                'type': annotation_type,\n",
        "                'start': start,\n",
        "                'end': end,\n",
        "                'text': text\n",
        "            })\n",
        "        elif line.startswith('E'):\n",
        "            # Parse event annotations (E lines)\n",
        "            parts = line.split('\\t')\n",
        "            event_id, event_type, trigger_arg, arg1_arg = parts[0], parts[1], parts[2], parts[3]\n",
        "            trigger_id = re.search(r'T(\\d+)', trigger_arg).group(1)\n",
        "            arg1_id = re.search(r'T(\\d+)', arg1_arg).group(1)\n",
        "            annotations.append({\n",
        "                'id': event_id,\n",
        "                'type': event_type,\n",
        "                'trigger': trigger_id,\n",
        "                'arg1': arg1_id\n",
        "            })\n",
        "\n",
        "    return annotations\n",
        "\n",
        "def ann_to_json(ann_content):\n",
        "    annotations = parse_ann_file(ann_content)\n",
        "    json_data = json.dumps(annotations, indent=2)\n",
        "    return json_data\n",
        "\n",
        "ann_content=\"\"\"T3\tLiteral_Expression 289 296\tmansion\n",
        "T4\tLiteral_Expression 423 429\tparcel\n",
        "T5\tLiteral 631 648\tMississippi River\n",
        "T6\tLiteral_Modifier 579 593\tFrench Quarter\"\"\"\n",
        "\n",
        "json_data = ann_to_json(ann_content)\n",
        "print(json_data)\n"
      ]
    },
    {
      "cell_type": "code",
      "source": [
        "pip install geopy\n"
      ],
      "metadata": {
        "id": "9-LiYG-sqni_"
      },
      "execution_count": null,
      "outputs": []
    },
    {
      "cell_type": "code",
      "source": [
        "from geopy.geocoders import Nominatim\n",
        "geocoder = Nominatim(user_agent=\"locator\")"
      ],
      "metadata": {
        "id": "9h8gCcDxrEl5"
      },
      "execution_count": null,
      "outputs": []
    },
    {
      "cell_type": "code",
      "source": [
        "address=\"London\"\n",
        "location = geocoder.geocode(address)\n",
        "location"
      ],
      "metadata": {
        "id": "5NkUq-Fhrbtl"
      },
      "execution_count": null,
      "outputs": []
    },
    {
      "cell_type": "markdown",
      "source": [
        "Plotting multiple locations\n"
      ],
      "metadata": {
        "id": "M8pS1z5WEqig"
      }
    },
    {
      "cell_type": "code",
      "source": [
        "pip install geopy"
      ],
      "metadata": {
        "id": "hGKujEjwQdW8"
      },
      "execution_count": null,
      "outputs": []
    },
    {
      "cell_type": "code",
      "source": [
        "from geopy.geocoders import Nominatim\n",
        "geocoder = Nominatim(user_agent=\"locator\")"
      ],
      "metadata": {
        "id": "Q3h163FUQY2G"
      },
      "execution_count": null,
      "outputs": []
    },
    {
      "cell_type": "code",
      "source": [
        "lst=[\"london\",\"New Delhi\",\"Banglore\"]\n",
        "locations= pd.DataFrame(lst)\n",
        "locations.columns=[\"Location\"]\n",
        "print(locations)"
      ],
      "metadata": {
        "id": "F0mwDpgAEvDW"
      },
      "execution_count": null,
      "outputs": []
    },
    {
      "cell_type": "code",
      "source": [
        "locations[\"coordinates\"]=locations[\"Location\"].apply(geocoder.geocode)\n"
      ],
      "metadata": {
        "id": "aM20JpK3FNzB"
      },
      "execution_count": null,
      "outputs": []
    },
    {
      "cell_type": "code",
      "source": [
        "locations[\"Latitude\"]=locations[\"coordinates\"].apply(lambda x:x.latitude)\n",
        "locations[\"Longitude\"]=locations[\"coordinates\"].apply(lambda x:x.longitude)"
      ],
      "metadata": {
        "id": "osCkvyGwGQNV"
      },
      "execution_count": null,
      "outputs": []
    },
    {
      "cell_type": "code",
      "source": [
        "loc_list = locations[[\"Location\", \"Latitude\", \"Longitude\"]].values.tolist()\n",
        "loc_list"
      ],
      "metadata": {
        "colab": {
          "base_uri": "https://localhost:8080/"
        },
        "id": "JjYI3uuBGiVx",
        "outputId": "5514d800-7ab3-48ad-adb1-8cd2fbbc3b37"
      },
      "execution_count": null,
      "outputs": [
        {
          "output_type": "execute_result",
          "data": {
            "text/plain": [
              "[['london', 51.5074456, -0.1277653],\n",
              " ['New Delhi', 28.6138954, 77.2090057],\n",
              " ['Banglore', 24.87047205, 67.08472144429825]]"
            ]
          },
          "metadata": {},
          "execution_count": 120
        }
      ]
    },
    {
      "cell_type": "code",
      "source": [
        "import folium"
      ],
      "metadata": {
        "id": "swQfnzq1IWUZ"
      },
      "execution_count": null,
      "outputs": []
    },
    {
      "cell_type": "code",
      "source": [
        "map=folium.Map(location=[52.2297, 21.0122 ],zoom_start=2,tiles=\"openstreetmap\")\n",
        "fg=folium.FeatureGroup(name=\"locator\")\n",
        "\n",
        "for loc in loc_list:\n",
        "  fg.add_child(folium.Marker(location=[loc[1],loc[2]],popup=loc[0],icon=folium.Icon(color=\"red\")))\n",
        "  map.add_child(fg)\n",
        "\n",
        "map"
      ],
      "metadata": {
        "colab": {
          "base_uri": "https://localhost:8080/",
          "height": 865
        },
        "id": "5UhHas5CI133",
        "outputId": "121918b8-26d2-4dcc-f639-f53a37514417"
      },
      "execution_count": null,
      "outputs": [
        {
          "output_type": "execute_result",
          "data": {
            "text/plain": [
              "<folium.folium.Map at 0x7f9203b40520>"
            ],
            "text/html": [
              "<div style=\"width:100%;\"><div style=\"position:relative;width:100%;height:0;padding-bottom:60%;\"><span style=\"color:#565656\">Make this Notebook Trusted to load map: File -> Trust Notebook</span><iframe srcdoc=\"&lt;!DOCTYPE html&gt;\n",
              "&lt;html&gt;\n",
              "&lt;head&gt;\n",
              "    \n",
              "    &lt;meta http-equiv=&quot;content-type&quot; content=&quot;text/html; charset=UTF-8&quot; /&gt;\n",
              "    \n",
              "        &lt;script&gt;\n",
              "            L_NO_TOUCH = false;\n",
              "            L_DISABLE_3D = false;\n",
              "        &lt;/script&gt;\n",
              "    \n",
              "    &lt;style&gt;html, body {width: 100%;height: 100%;margin: 0;padding: 0;}&lt;/style&gt;\n",
              "    &lt;style&gt;#map {position:absolute;top:0;bottom:0;right:0;left:0;}&lt;/style&gt;\n",
              "    &lt;script src=&quot;https://cdn.jsdelivr.net/npm/leaflet@1.9.3/dist/leaflet.js&quot;&gt;&lt;/script&gt;\n",
              "    &lt;script src=&quot;https://code.jquery.com/jquery-1.12.4.min.js&quot;&gt;&lt;/script&gt;\n",
              "    &lt;script src=&quot;https://cdn.jsdelivr.net/npm/bootstrap@5.2.2/dist/js/bootstrap.bundle.min.js&quot;&gt;&lt;/script&gt;\n",
              "    &lt;script src=&quot;https://cdnjs.cloudflare.com/ajax/libs/Leaflet.awesome-markers/2.0.2/leaflet.awesome-markers.js&quot;&gt;&lt;/script&gt;\n",
              "    &lt;link rel=&quot;stylesheet&quot; href=&quot;https://cdn.jsdelivr.net/npm/leaflet@1.9.3/dist/leaflet.css&quot;/&gt;\n",
              "    &lt;link rel=&quot;stylesheet&quot; href=&quot;https://cdn.jsdelivr.net/npm/bootstrap@5.2.2/dist/css/bootstrap.min.css&quot;/&gt;\n",
              "    &lt;link rel=&quot;stylesheet&quot; href=&quot;https://netdna.bootstrapcdn.com/bootstrap/3.0.0/css/bootstrap.min.css&quot;/&gt;\n",
              "    &lt;link rel=&quot;stylesheet&quot; href=&quot;https://cdn.jsdelivr.net/npm/@fortawesome/fontawesome-free@6.2.0/css/all.min.css&quot;/&gt;\n",
              "    &lt;link rel=&quot;stylesheet&quot; href=&quot;https://cdnjs.cloudflare.com/ajax/libs/Leaflet.awesome-markers/2.0.2/leaflet.awesome-markers.css&quot;/&gt;\n",
              "    &lt;link rel=&quot;stylesheet&quot; href=&quot;https://cdn.jsdelivr.net/gh/python-visualization/folium/folium/templates/leaflet.awesome.rotate.min.css&quot;/&gt;\n",
              "    \n",
              "            &lt;meta name=&quot;viewport&quot; content=&quot;width=device-width,\n",
              "                initial-scale=1.0, maximum-scale=1.0, user-scalable=no&quot; /&gt;\n",
              "            &lt;style&gt;\n",
              "                #map_8b66043ab5ad3dbfa04826f01fc63bb2 {\n",
              "                    position: relative;\n",
              "                    width: 100.0%;\n",
              "                    height: 100.0%;\n",
              "                    left: 0.0%;\n",
              "                    top: 0.0%;\n",
              "                }\n",
              "                .leaflet-container { font-size: 1rem; }\n",
              "            &lt;/style&gt;\n",
              "        \n",
              "&lt;/head&gt;\n",
              "&lt;body&gt;\n",
              "    \n",
              "    \n",
              "            &lt;div class=&quot;folium-map&quot; id=&quot;map_8b66043ab5ad3dbfa04826f01fc63bb2&quot; &gt;&lt;/div&gt;\n",
              "        \n",
              "&lt;/body&gt;\n",
              "&lt;script&gt;\n",
              "    \n",
              "    \n",
              "            var map_8b66043ab5ad3dbfa04826f01fc63bb2 = L.map(\n",
              "                &quot;map_8b66043ab5ad3dbfa04826f01fc63bb2&quot;,\n",
              "                {\n",
              "                    center: [52.2297, 21.0122],\n",
              "                    crs: L.CRS.EPSG3857,\n",
              "                    zoom: 2,\n",
              "                    zoomControl: true,\n",
              "                    preferCanvas: false,\n",
              "                }\n",
              "            );\n",
              "\n",
              "            \n",
              "\n",
              "        \n",
              "    \n",
              "            var tile_layer_cae15b3d1f32715f9ccc3b058966acb9 = L.tileLayer(\n",
              "                &quot;https://{s}.tile.openstreetmap.org/{z}/{x}/{y}.png&quot;,\n",
              "                {&quot;attribution&quot;: &quot;Data by \\u0026copy; \\u003ca target=\\&quot;_blank\\&quot; href=\\&quot;http://openstreetmap.org\\&quot;\\u003eOpenStreetMap\\u003c/a\\u003e, under \\u003ca target=\\&quot;_blank\\&quot; href=\\&quot;http://www.openstreetmap.org/copyright\\&quot;\\u003eODbL\\u003c/a\\u003e.&quot;, &quot;detectRetina&quot;: false, &quot;maxNativeZoom&quot;: 18, &quot;maxZoom&quot;: 18, &quot;minZoom&quot;: 0, &quot;noWrap&quot;: false, &quot;opacity&quot;: 1, &quot;subdomains&quot;: &quot;abc&quot;, &quot;tms&quot;: false}\n",
              "            ).addTo(map_8b66043ab5ad3dbfa04826f01fc63bb2);\n",
              "        \n",
              "    \n",
              "            var feature_group_70a326c49ee06f7ffbd8e789b7ae9d52 = L.featureGroup(\n",
              "                {}\n",
              "            ).addTo(map_8b66043ab5ad3dbfa04826f01fc63bb2);\n",
              "        \n",
              "    \n",
              "            var marker_b7154220b23e8f002a607b6ced5d2c77 = L.marker(\n",
              "                [51.5074456, -0.1277653],\n",
              "                {}\n",
              "            ).addTo(feature_group_70a326c49ee06f7ffbd8e789b7ae9d52);\n",
              "        \n",
              "    \n",
              "            var icon_527ced58f2423f3a651e960cf0fe696d = L.AwesomeMarkers.icon(\n",
              "                {&quot;extraClasses&quot;: &quot;fa-rotate-0&quot;, &quot;icon&quot;: &quot;info-sign&quot;, &quot;iconColor&quot;: &quot;white&quot;, &quot;markerColor&quot;: &quot;red&quot;, &quot;prefix&quot;: &quot;glyphicon&quot;}\n",
              "            );\n",
              "            marker_b7154220b23e8f002a607b6ced5d2c77.setIcon(icon_527ced58f2423f3a651e960cf0fe696d);\n",
              "        \n",
              "    \n",
              "        var popup_89d8df45d5917ef2dee2a57648b3aff6 = L.popup({&quot;maxWidth&quot;: &quot;100%&quot;});\n",
              "\n",
              "        \n",
              "            \n",
              "                var html_9a06594daad86f9015c720f2af6010be = $(`&lt;div id=&quot;html_9a06594daad86f9015c720f2af6010be&quot; style=&quot;width: 100.0%; height: 100.0%;&quot;&gt;london&lt;/div&gt;`)[0];\n",
              "                popup_89d8df45d5917ef2dee2a57648b3aff6.setContent(html_9a06594daad86f9015c720f2af6010be);\n",
              "            \n",
              "        \n",
              "\n",
              "        marker_b7154220b23e8f002a607b6ced5d2c77.bindPopup(popup_89d8df45d5917ef2dee2a57648b3aff6)\n",
              "        ;\n",
              "\n",
              "        \n",
              "    \n",
              "    \n",
              "            var marker_7b744669aa74845b6d093e4660b66bf1 = L.marker(\n",
              "                [28.6138954, 77.2090057],\n",
              "                {}\n",
              "            ).addTo(feature_group_70a326c49ee06f7ffbd8e789b7ae9d52);\n",
              "        \n",
              "    \n",
              "            var icon_0f962c963cb00dcdc99e184741cf2af2 = L.AwesomeMarkers.icon(\n",
              "                {&quot;extraClasses&quot;: &quot;fa-rotate-0&quot;, &quot;icon&quot;: &quot;info-sign&quot;, &quot;iconColor&quot;: &quot;white&quot;, &quot;markerColor&quot;: &quot;red&quot;, &quot;prefix&quot;: &quot;glyphicon&quot;}\n",
              "            );\n",
              "            marker_7b744669aa74845b6d093e4660b66bf1.setIcon(icon_0f962c963cb00dcdc99e184741cf2af2);\n",
              "        \n",
              "    \n",
              "        var popup_1691e2c2beae52e4767d6d1acbeb33cb = L.popup({&quot;maxWidth&quot;: &quot;100%&quot;});\n",
              "\n",
              "        \n",
              "            \n",
              "                var html_fd18db0e61ae36efa416ad62223be622 = $(`&lt;div id=&quot;html_fd18db0e61ae36efa416ad62223be622&quot; style=&quot;width: 100.0%; height: 100.0%;&quot;&gt;New Delhi&lt;/div&gt;`)[0];\n",
              "                popup_1691e2c2beae52e4767d6d1acbeb33cb.setContent(html_fd18db0e61ae36efa416ad62223be622);\n",
              "            \n",
              "        \n",
              "\n",
              "        marker_7b744669aa74845b6d093e4660b66bf1.bindPopup(popup_1691e2c2beae52e4767d6d1acbeb33cb)\n",
              "        ;\n",
              "\n",
              "        \n",
              "    \n",
              "    \n",
              "            var marker_5e56aa688ed1d0e896c4f0f24abb9a76 = L.marker(\n",
              "                [24.87047205, 67.08472144429825],\n",
              "                {}\n",
              "            ).addTo(feature_group_70a326c49ee06f7ffbd8e789b7ae9d52);\n",
              "        \n",
              "    \n",
              "            var icon_cc7b518138a9e767cce5fe8e22cc0635 = L.AwesomeMarkers.icon(\n",
              "                {&quot;extraClasses&quot;: &quot;fa-rotate-0&quot;, &quot;icon&quot;: &quot;info-sign&quot;, &quot;iconColor&quot;: &quot;white&quot;, &quot;markerColor&quot;: &quot;red&quot;, &quot;prefix&quot;: &quot;glyphicon&quot;}\n",
              "            );\n",
              "            marker_5e56aa688ed1d0e896c4f0f24abb9a76.setIcon(icon_cc7b518138a9e767cce5fe8e22cc0635);\n",
              "        \n",
              "    \n",
              "        var popup_039930c272987722d7ffd4cad828c719 = L.popup({&quot;maxWidth&quot;: &quot;100%&quot;});\n",
              "\n",
              "        \n",
              "            \n",
              "                var html_faa0007ae90bf33afd32a0d072bdc98c = $(`&lt;div id=&quot;html_faa0007ae90bf33afd32a0d072bdc98c&quot; style=&quot;width: 100.0%; height: 100.0%;&quot;&gt;Banglore&lt;/div&gt;`)[0];\n",
              "                popup_039930c272987722d7ffd4cad828c719.setContent(html_faa0007ae90bf33afd32a0d072bdc98c);\n",
              "            \n",
              "        \n",
              "\n",
              "        marker_5e56aa688ed1d0e896c4f0f24abb9a76.bindPopup(popup_039930c272987722d7ffd4cad828c719)\n",
              "        ;\n",
              "\n",
              "        \n",
              "    \n",
              "&lt;/script&gt;\n",
              "&lt;/html&gt;\" style=\"position:absolute;width:100%;height:100%;left:0;top:0;border:none !important;\" allowfullscreen webkitallowfullscreen mozallowfullscreen></iframe></div></div>"
            ]
          },
          "metadata": {},
          "execution_count": 131
        }
      ]
    },
    {
      "cell_type": "markdown",
      "source": [
        "Performing it on the list"
      ],
      "metadata": {
        "id": "XP-scSB2P0tl"
      }
    },
    {
      "cell_type": "code",
      "source": [
        "map=folium.Map(location=[0, 0],zoom_start=100)\n",
        "\n",
        "for loc in loc_list:\n",
        "  folium.Marker(location=[loc[1],loc[2]],popup=loc[0],icon=folium.Icon(color=\"red\"),tooltip=loc[0]).add_to(map)\n",
        "\n",
        "\n",
        "map"
      ],
      "metadata": {
        "id": "m7CsiSSIPy5R"
      },
      "execution_count": null,
      "outputs": []
    }
  ]
}